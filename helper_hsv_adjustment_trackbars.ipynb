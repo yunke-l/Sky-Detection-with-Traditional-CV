{
 "cells": [
  {
   "cell_type": "code",
   "execution_count": 1,
   "id": "cb5df859-a141-42ef-8d96-cc511982db4d",
   "metadata": {},
   "outputs": [],
   "source": [
    "import cv2\n",
    "import numpy as np\n",
    "\n",
    "# Read the image\n",
    "image = cv2.imread('blue1.jpeg')\n",
    "\n",
    "# Convert to HSV\n",
    "hsv = cv2.cvtColor(image, cv2.COLOR_BGR2HSV)\n",
    "\n",
    "# Defines a function nothing that does nothing and is used as a placeholder for the trackbar callback\n",
    "def nothing(x):\n",
    "    pass\n",
    "\n",
    "# Create a window to display the image and the trackbars\n",
    "cv2.namedWindow('image')\n",
    "\n",
    "# Create trackbars for color change\n",
    "cv2.createTrackbar('LowerH', 'image', 0, 179, nothing)\n",
    "cv2.createTrackbar('LowerS', 'image', 0, 255, nothing)\n",
    "cv2.createTrackbar('LowerV', 'image', 0, 255, nothing)\n",
    "cv2.createTrackbar('UpperH', 'image', 179, 179, nothing)\n",
    "cv2.createTrackbar('UpperS', 'image', 255, 255, nothing)\n",
    "cv2.createTrackbar('UpperV', 'image', 255, 255, nothing)\n",
    "\n",
    "while True:\n",
    "    # Get current positions of the trackbars\n",
    "    lower_h = cv2.getTrackbarPos('LowerH', 'image')\n",
    "    lower_s = cv2.getTrackbarPos('LowerS', 'image')\n",
    "    lower_v = cv2.getTrackbarPos('LowerV', 'image')\n",
    "    upper_h = cv2.getTrackbarPos('UpperH', 'image')\n",
    "    upper_s = cv2.getTrackbarPos('UpperS', 'image')\n",
    "    upper_v = cv2.getTrackbarPos('UpperV', 'image')\n",
    "\n",
    "    # Define the HSV range\n",
    "    lower_blue = np.array([lower_h, lower_s, lower_v])\n",
    "    upper_blue = np.array([upper_h, upper_s, upper_v])\n",
    "\n",
    "    # Threshold the HSV image to get only blue colors\n",
    "    mask = cv2.inRange(hsv, lower_blue, upper_blue)\n",
    "\n",
    "    # Bitwise-AND mask and original image\n",
    "    res = cv2.bitwise_and(image, image, mask=mask)\n",
    "\n",
    "    # Display images\n",
    "    cv2.imshow('image', res)\n",
    "\n",
    "    # Break loop on ESC key press\n",
    "    k = cv2.waitKey(1) & 0xFF\n",
    "    if k == 27:\n",
    "        break\n",
    "\n",
    "cv2.destroyAllWindows()"
   ]
  },
  {
   "cell_type": "code",
   "execution_count": null,
   "id": "0eedf74b-9b28-4aca-a585-2e7cb213774c",
   "metadata": {},
   "outputs": [],
   "source": []
  }
 ],
 "metadata": {
  "kernelspec": {
   "display_name": "Python 3 (ipykernel)",
   "language": "python",
   "name": "python3"
  },
  "language_info": {
   "codemirror_mode": {
    "name": "ipython",
    "version": 3
   },
   "file_extension": ".py",
   "mimetype": "text/x-python",
   "name": "python",
   "nbconvert_exporter": "python",
   "pygments_lexer": "ipython3",
   "version": "3.10.9"
  }
 },
 "nbformat": 4,
 "nbformat_minor": 5
}
